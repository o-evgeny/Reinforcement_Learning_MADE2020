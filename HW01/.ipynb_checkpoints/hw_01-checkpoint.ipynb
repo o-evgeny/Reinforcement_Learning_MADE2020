{
 "cells": [
  {
   "cell_type": "code",
   "execution_count": 1,
   "metadata": {},
   "outputs": [
    {
     "ename": "ModuleNotFoundError",
     "evalue": "No module named 'gym'",
     "output_type": "error",
     "traceback": [
      "\u001b[0;31m---------------------------------------------------------------------------\u001b[0m",
      "\u001b[0;31mModuleNotFoundError\u001b[0m                       Traceback (most recent call last)",
      "\u001b[0;32m<ipython-input-1-48b498b2e600>\u001b[0m in \u001b[0;36m<module>\u001b[0;34m\u001b[0m\n\u001b[0;32m----> 1\u001b[0;31m \u001b[0;32mimport\u001b[0m \u001b[0mgym\u001b[0m\u001b[0;34m\u001b[0m\u001b[0;34m\u001b[0m\u001b[0m\n\u001b[0m\u001b[1;32m      2\u001b[0m \u001b[0;32mimport\u001b[0m \u001b[0mnumpy\u001b[0m \u001b[0;32mas\u001b[0m \u001b[0mnp\u001b[0m\u001b[0;34m\u001b[0m\u001b[0;34m\u001b[0m\u001b[0m\n\u001b[1;32m      3\u001b[0m \u001b[0;32mimport\u001b[0m \u001b[0mrandom\u001b[0m\u001b[0;34m\u001b[0m\u001b[0;34m\u001b[0m\u001b[0m\n\u001b[1;32m      4\u001b[0m \u001b[0;32mimport\u001b[0m \u001b[0mmatplotlib\u001b[0m\u001b[0;34m.\u001b[0m\u001b[0mpyplot\u001b[0m \u001b[0;32mas\u001b[0m \u001b[0mplt\u001b[0m\u001b[0;34m\u001b[0m\u001b[0;34m\u001b[0m\u001b[0m\n",
      "\u001b[0;31mModuleNotFoundError\u001b[0m: No module named 'gym'"
     ]
    }
   ],
   "source": [
    "import gym\n",
    "import numpy as np\n",
    "import random\n",
    "import matplotlib.pyplot as plt"
   ]
  },
  {
   "cell_type": "markdown",
   "metadata": {},
   "source": [
    "# Часть 1\n"
   ]
  },
  {
   "cell_type": "code",
   "execution_count": 2,
   "metadata": {},
   "outputs": [
    {
     "name": "stderr",
     "output_type": "stream",
     "text": [
      "[2020-10-28 00:31:31,228] Making new env: Blackjack-v0\n",
      "C:\\ProgramData\\Anaconda3\\lib\\site-packages\\gym\\envs\\registration.py:17: PkgResourcesDeprecationWarning: Parameters to load are deprecated.  Call .resolve and .require separately.\n",
      "  result = entry_point.load(False)\n"
     ]
    }
   ],
   "source": [
    "env = gym.make('Blackjack-v0')\n",
    "env.natural = True"
   ]
  },
  {
   "cell_type": "code",
   "execution_count": 3,
   "metadata": {},
   "outputs": [],
   "source": [
    "def test_policy(env, policy, num_experiments=100000):\n",
    "    num_steps, total_reward = [], []\n",
    "    for _ in range(num_experiments):\n",
    "        observation = env.reset()\n",
    "        done = False\n",
    "        steps = 0\n",
    "        while not done:\n",
    "            steps += 1\n",
    "            observation, reward, done, info = env.step(policy(observation))    \n",
    "        total_reward.append(reward)\n",
    "        num_steps.append(steps)\n",
    "\n",
    "    print(\"Средняя награда: %.6f\\nСреднее число шагов: %.6f\" % (np.mean(total_reward), np.mean(num_steps)))    "
   ]
  },
  {
   "cell_type": "code",
   "execution_count": 4,
   "metadata": {},
   "outputs": [],
   "source": [
    "def simple_policy(observation):\n",
    "    return 0 if observation[0] > 18 else 1"
   ]
  },
  {
   "cell_type": "code",
   "execution_count": 5,
   "metadata": {},
   "outputs": [
    {
     "name": "stdout",
     "output_type": "stream",
     "text": [
      "Средняя награда: -0.176770\n",
      "Среднее число шагов: 1.743260\n"
     ]
    }
   ],
   "source": [
    "test_policy(env, simple_policy)"
   ]
  },
  {
   "cell_type": "code",
   "execution_count": 6,
   "metadata": {},
   "outputs": [],
   "source": [
    "class Player:\n",
    "    def __init__(self, actions, alpha=0.05, epsilon=0.0, gamma=0.9):\n",
    "        self.Q = {}\n",
    "        self.actions = actions\n",
    "        self.epsilon = epsilon\n",
    "        self.alpha = alpha\n",
    "        self.gamma = gamma\n",
    "        self.a_to_idx = {a: i for i,a in enumerate(actions)}\n",
    "        \n",
    "    def _Q_actions(self, state):\n",
    "        if state not in self.Q:\n",
    "            self.Q[state] = np.random.random(size=len(self.actions))\n",
    "        return self.Q[state]\n",
    "    \n",
    "    def _Q(self, state, action):\n",
    "        return self._Q_actions(state)[self.a_to_idx[action]]\n",
    "    \n",
    "    def get_action(self, state):\n",
    "        if np.random.rand() <= self.epsilon:\n",
    "            return random.choice(self.actions)        \n",
    "        return self.actions[np.argmax(self._Q_actions(state))]\n",
    "    \n",
    "    def learn_episode(self, steps, reward):\n",
    "        next_step_max = 0\n",
    "        for state, action in steps[::-1]:\n",
    "            reward = self._Q(state, action) + self.alpha * (reward + self.gamma * next_step_max \n",
    "                                                            - self._Q(state, action))\n",
    "            self.Q[state][self.a_to_idx[action]] = reward\n",
    "            next_step_max = np.max(self.Q[state])\n",
    "        "
   ]
  },
  {
   "cell_type": "code",
   "execution_count": 7,
   "metadata": {},
   "outputs": [],
   "source": [
    "def generate_learning_episode(env, player):\n",
    "    observation = env.reset()\n",
    "    done = False\n",
    "    steps = []\n",
    "    while not done:\n",
    "        action = player.get_action(observation)\n",
    "        steps.append((observation, action))\n",
    "        observation, reward, done, info = env.step(action)    \n",
    "    return steps, reward"
   ]
  },
  {
   "cell_type": "code",
   "execution_count": 8,
   "metadata": {},
   "outputs": [],
   "source": [
    "total_episodes = 500000\n",
    "player = Player([0,1], alpha=0.01, epsilon=0.0, gamma=0.0)\n",
    "avg_reward_history = []\n",
    "rewards_sum = 0\n",
    "for n in range(total_episodes):\n",
    "    steps, reward = generate_learning_episode(env, player)\n",
    "    player.learn_episode(steps, reward)\n",
    "    rewards_sum += reward\n",
    "    avg_reward_history.append(rewards_sum/(n + 1))"
   ]
  },
  {
   "cell_type": "code",
   "execution_count": 9,
   "metadata": {},
   "outputs": [
    {
     "data": {
      "text/plain": [
       "[<matplotlib.lines.Line2D at 0x152059bfc18>]"
      ]
     },
     "execution_count": 9,
     "metadata": {},
     "output_type": "execute_result"
    },
    {
     "data": {
      "image/png": "[encoded data removed]",
      "text/plain": [
       "<Figure size 720x432 with 1 Axes>"
      ]
     },
     "metadata": {
      "needs_background": "light"
     },
     "output_type": "display_data"
    }
   ],
   "source": [
    "fig, ax = plt.subplots(1, 1, figsize=(10, 6))\n",
    "ax.plot(avg_reward_history[10:])"
   ]
  },
  {
   "cell_type": "code",
   "execution_count": 10,
   "metadata": {},
   "outputs": [
    {
     "name": "stdout",
     "output_type": "stream",
     "text": [
      "Средняя награда: -0.040005\n",
      "Среднее число шагов: 1.606630\n"
     ]
    }
   ],
   "source": [
    "test_policy(env, player.get_action)"
   ]
  },
  {
   "cell_type": "markdown",
   "metadata": {},
   "source": [
    "# Часть 2"
   ]
  },
  {
   "cell_type": "code",
   "execution_count": 11,
   "metadata": {},
   "outputs": [],
   "source": [
    "from gym.envs.toy_text.blackjack import *\n",
    "\n",
    "class BlackjackEnv2(gym.Env):\n",
    "    def __init__(self, natural=False):\n",
    "        self.action_space = spaces.Discrete(3)\n",
    "        self.observation_space = spaces.Tuple((\n",
    "            spaces.Discrete(32),\n",
    "            spaces.Discrete(11),\n",
    "            spaces.Discrete(2)))\n",
    "        self.seed()\n",
    "\n",
    "        # Flag to payout 1.5 on a \"natural\" blackjack win, like casino rules\n",
    "        # Ref: http://www.bicyclecards.com/how-to-play/blackjack/\n",
    "        self.natural = natural\n",
    "        # Start the first game\n",
    "        self.reset()\n",
    "\n",
    "    def seed(self, seed=None):\n",
    "        self.np_random, seed = seeding.np_random(seed)\n",
    "        return [seed]\n",
    "\n",
    "    def step(self, action):\n",
    "        assert self.action_space.contains(action)\n",
    "        if action == 2:\n",
    "            self.player.append(draw_card(self.np_random))\n",
    "            done = True\n",
    "            if is_bust(self.player):                \n",
    "                reward = -2.\n",
    "            else:\n",
    "                while sum_hand(self.dealer) < 17:\n",
    "                    self.dealer.append(draw_card(self.np_random))\n",
    "                reward = 2 * cmp(score(self.player), score(self.dealer))\n",
    "                if self.natural and is_natural(self.player) and reward > 0:\n",
    "                    reward = 3\n",
    "        elif action:  # hit: add a card to players hand and return\n",
    "            self.player.append(draw_card(self.np_random))\n",
    "            if is_bust(self.player):\n",
    "                done = True\n",
    "                reward = -1.\n",
    "            else:\n",
    "                done = False\n",
    "                reward = 0.\n",
    "        else:  # stick: play out the dealers hand, and score\n",
    "            done = True\n",
    "            while sum_hand(self.dealer) < 17:\n",
    "                self.dealer.append(draw_card(self.np_random))\n",
    "            reward = cmp(score(self.player), score(self.dealer))\n",
    "            if self.natural and is_natural(self.player) and reward == 1.:\n",
    "                reward = 1.5\n",
    "        return self._get_obs(), reward, done, {}\n",
    "\n",
    "    def _get_obs(self):\n",
    "        return (sum_hand(self.player), self.dealer[0], usable_ace(self.player))\n",
    "\n",
    "    def reset(self):\n",
    "        self.dealer = draw_hand(self.np_random)\n",
    "        self.player = draw_hand(self.np_random)\n",
    "        return self._get_obs()"
   ]
  },
  {
   "cell_type": "code",
   "execution_count": 12,
   "metadata": {},
   "outputs": [],
   "source": [
    "env = BlackjackEnv2(True)\n",
    "total_episodes = 500000\n",
    "player = Player([0,1,2], alpha=0.01, epsilon=0.01, gamma=0.0)\n",
    "avg_reward_history = []\n",
    "rewards_sum = 0\n",
    "for n in range(total_episodes):\n",
    "    steps, reward = generate_learning_episode(env, player)\n",
    "    player.learn_episode(steps, reward)\n",
    "    rewards_sum += reward\n",
    "    avg_reward_history.append(rewards_sum/(n + 1))"
   ]
  },
  {
   "cell_type": "code",
   "execution_count": 13,
   "metadata": {},
   "outputs": [
    {
     "data": {
      "text/plain": [
       "[<matplotlib.lines.Line2D at 0x15206a3ba58>]"
      ]
     },
     "execution_count": 13,
     "metadata": {},
     "output_type": "execute_result"
    },
    {
     "data": {
      "image/png": "[encoded data removed]",
      "text/plain": [
       "<Figure size 720x432 with 1 Axes>"
      ]
     },
     "metadata": {
      "needs_background": "light"
     },
     "output_type": "display_data"
    }
   ],
   "source": [
    "fig, ax = plt.subplots(1, 1, figsize=(10, 6))\n",
    "ax.plot(avg_reward_history[10:])"
   ]
  },
  {
   "cell_type": "code",
   "execution_count": 14,
   "metadata": {},
   "outputs": [
    {
     "name": "stdout",
     "output_type": "stream",
     "text": [
      "Средняя награда: -0.030880\n",
      "Среднее число шагов: 1.534710\n"
     ]
    }
   ],
   "source": [
    "test_policy(env, player.get_action)"
   ]
  },
  {
   "cell_type": "code",
   "execution_count": 15,
   "metadata": {},
   "outputs": [
    {
     "name": "stdout",
     "output_type": "stream",
     "text": [
      "(11, 5, False) [0.31541531 0.37145997 0.84967847]\n",
      "(11, 3, False) [0.01227309 0.00159305 0.26139171]\n",
      "(4, 1, False) [-0.21960379 -0.2166471  -0.21617928]\n",
      "(18, 5, True) [0.25055645 0.25970058 0.26400782]\n",
      "(12, 4, True) [0.26504028 0.26456348 0.26756238]\n",
      "(17, 4, True) [0.10643304 0.10628909 0.1084616 ]\n",
      "(20, 5, True) [0.03023731 0.27753617 0.51605772]\n",
      "(10, 4, False) [0.20073686 0.18744549 0.42096075]\n",
      "(12, 8, True) [0.42531026 0.42192418 0.43284784]\n",
      "(10, 6, False) [0.1066851  0.22116936 0.45891108]\n",
      "(11, 4, False) [0.29964403 0.02862274 0.6185602 ]\n",
      "(11, 2, False) [0.1288742  0.14870287 0.42435962]\n",
      "(14, 3, True) [0.15699732 0.16355346 0.19979823]\n",
      "(12, 1, True) [0.05358686 0.0589328  0.06006473]\n",
      "(18, 4, True) [0.1169199  0.05015237 0.24680032]\n",
      "(11, 6, False) [0.28546216 0.34198575 0.65084504]\n",
      "(13, 8, True) [0.11012835 0.11460926 0.1370943 ]\n",
      "(15, 9, True) [-0.10146542 -0.10174501 -0.09954895]\n",
      "(16, 3, True) [0.12582552 0.13047331 0.13062011]\n"
     ]
    }
   ],
   "source": [
    "for k, v in player.Q.items():\n",
    "    if v[2] > v[1] and v[2] > v[0]:\n",
    "         print(k, v)"
   ]
  },
  {
   "cell_type": "markdown",
   "metadata": {},
   "source": [
    "# Часть 3"
   ]
  },
  {
   "cell_type": "code",
   "execution_count": 16,
   "metadata": {},
   "outputs": [],
   "source": [
    "from gym.envs.toy_text.blackjack import *\n",
    "\n",
    "deck = [1, 2, 3, 4, 5, 6, 7, 8, 9, 10, 10, 10, 10]*4\n",
    "\n",
    "card_scores = {\n",
    "    1: -2,\n",
    "    2: 1,\n",
    "    3: 2,\n",
    "    4: 2,\n",
    "    5: 3,\n",
    "    6: 2,\n",
    "    7: 1,\n",
    "    8: 0,\n",
    "    9: -1,\n",
    "    10: -2\n",
    "}\n",
    "\n",
    "class BlackjackEnv3(gym.Env):\n",
    "    def __init__(self, natural=False):\n",
    "        self.action_space = spaces.Discrete(3)\n",
    "        self.observation_space = spaces.Tuple((\n",
    "            spaces.Discrete(32),\n",
    "            spaces.Discrete(11),\n",
    "            spaces.Discrete(2),\n",
    "            spaces.Discrete(21)))\n",
    "        self.seed()\n",
    "        self.active_deck = list(deck)\n",
    "        self.cards_counter = 0\n",
    "        \n",
    "        # Flag to payout 1.5 on a \"natural\" blackjack win, like casino rules\n",
    "        # Ref: http://www.bicyclecards.com/how-to-play/blackjack/\n",
    "        self.natural = natural\n",
    "        # Start the first game\n",
    "        self.reset()\n",
    "        \n",
    "    def shuffle(self):\n",
    "        self.active_deck = list(deck)\n",
    "        random.shuffle(self.active_deck)\n",
    "        self.cards_counter = 0\n",
    "\n",
    "    def seed(self, seed=None):\n",
    "        self.np_random, seed = seeding.np_random(seed)\n",
    "        return [seed]\n",
    "    \n",
    "    def _draw_card(self):\n",
    "        if len(self.active_deck) < 15:\n",
    "            self.shuffle()\n",
    "        card = self.active_deck.pop()\n",
    "        self.cards_counter += card_scores[card]\n",
    "        return card\n",
    "\n",
    "    def step(self, action):\n",
    "        assert self.action_space.contains(action)\n",
    "        if action == 2:\n",
    "            self.player.append(self._draw_card())\n",
    "            done = True\n",
    "            if is_bust(self.player):                \n",
    "                reward = -2.\n",
    "            else:\n",
    "                while sum_hand(self.dealer) < 17:\n",
    "                    self.dealer.append(self._draw_card())\n",
    "                reward = 2 * cmp(score(self.player), score(self.dealer))\n",
    "                if self.natural and is_natural(self.player) and reward > 0:\n",
    "                    reward = 3\n",
    "        elif action:  # hit: add a card to players hand and return\n",
    "            self.player.append(self._draw_card())\n",
    "            if is_bust(self.player):\n",
    "                done = True\n",
    "                reward = -1.\n",
    "            else:\n",
    "                done = False\n",
    "                reward = 0.\n",
    "        else:  # stick: play out the dealers hand, and score\n",
    "            done = True\n",
    "            while sum_hand(self.dealer) < 17:\n",
    "                self.dealer.append(self._draw_card())\n",
    "            reward = cmp(score(self.player), score(self.dealer))\n",
    "            if self.natural and is_natural(self.player) and reward == 1.:\n",
    "                reward = 1.5\n",
    "        return self._get_obs(), reward, done, {}\n",
    "\n",
    "    def _get_obs(self):\n",
    "        return (sum_hand(self.player), self.dealer[0], usable_ace(self.player), self.cards_counter)\n",
    "\n",
    "    def reset(self):\n",
    "        self.dealer = draw_hand(self.np_random)\n",
    "        self.player = draw_hand(self.np_random)\n",
    "        return self._get_obs()"
   ]
  },
  {
   "cell_type": "code",
   "execution_count": 17,
   "metadata": {},
   "outputs": [],
   "source": [
    "env = BlackjackEnv3(True)\n",
    "total_episodes = 1000000\n",
    "player = Player([0,1,2], alpha=0.1, epsilon=0.01, gamma=0.1)\n",
    "avg_reward_history = []\n",
    "rewards_sum = 0\n",
    "for n in range(total_episodes):\n",
    "    steps, reward = generate_learning_episode(env, player)\n",
    "    player.learn_episode(steps, reward)\n",
    "    rewards_sum += reward\n",
    "    avg_reward_history.append(rewards_sum/(n + 1))"
   ]
  },
  {
   "cell_type": "code",
   "execution_count": 18,
   "metadata": {},
   "outputs": [
    {
     "data": {
      "text/plain": [
       "[<matplotlib.lines.Line2D at 0x15206a80d30>]"
      ]
     },
     "execution_count": 18,
     "metadata": {},
     "output_type": "execute_result"
    },
    {
     "data": {
      "image/png": "[encoded data removed]",
      "text/plain": [
       "<Figure size 720x432 with 1 Axes>"
      ]
     },
     "metadata": {
      "needs_background": "light"
     },
     "output_type": "display_data"
    }
   ],
   "source": [
    "fig, ax = plt.subplots(1, 1, figsize=(10, 6))\n",
    "ax.plot(avg_reward_history[10:])"
   ]
  },
  {
   "cell_type": "code",
   "execution_count": 19,
   "metadata": {},
   "outputs": [
    {
     "name": "stdout",
     "output_type": "stream",
     "text": [
      "Средняя награда: -0.060600\n",
      "Среднее число шагов: 1.539090\n"
     ]
    }
   ],
   "source": [
    "test_policy(env, player.get_action)"
   ]
  }
 ],
 "metadata": {
  "kernelspec": {
   "display_name": "Python 3",
   "language": "python",
   "name": "python3"
  },
  "language_info": {
   "codemirror_mode": {
    "name": "ipython",
    "version": 3
   },
   "file_extension": ".py",
   "mimetype": "text/x-python",
   "name": "python",
   "nbconvert_exporter": "python",
   "pygments_lexer": "ipython3",
   "version": "3.7.4"
  }
 },
 "nbformat": 4,
 "nbformat_minor": 2
}
